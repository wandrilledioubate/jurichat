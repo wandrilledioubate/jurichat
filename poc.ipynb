{
 "cells": [
  {
   "cell_type": "markdown",
   "metadata": {},
   "source": [
    "Importation des librairies"
   ]
  },
  {
   "cell_type": "code",
   "execution_count": 14,
   "metadata": {},
   "outputs": [],
   "source": [
    "from langchain_community.document_loaders import PyPDFLoader\n",
    "from langchain_text_splitters import RecursiveCharacterTextSplitter\n",
    "from langchain.embeddings.openai import OpenAIEmbeddings\n",
    "from langchain.vectorstores import Chroma\n",
    "from langchain_openai import ChatOpenAI\n",
    "from langchain.chains import RetrievalQA\n",
    "from dotenv import load_dotenv\n",
    "from langchain.prompts import PromptTemplate\n",
    "from pydantic import BaseModel, Field\n",
    "import os\n",
    "from langchain.output_parsers import PydanticOutputParser\n",
    "from langchain_core.runnables import RunnableParallel, RunnablePassthrough\n",
    "from langchain_core.output_parsers import StrOutputParser\n"
   ]
  },
  {
   "cell_type": "code",
   "execution_count": 15,
   "metadata": {},
   "outputs": [],
   "source": [
    "pdf_loader = PyPDFLoader(\"data/code_penal.pdf\")\n",
    "pages = pdf_loader.load()"
   ]
  },
  {
   "cell_type": "code",
   "execution_count": 16,
   "metadata": {},
   "outputs": [
    {
     "data": {
      "text/plain": [
       "Document(page_content=\"Code pénal\\nPartie législative\\nLivre Ier : Dispositions générales\\nTitre Ier : De la loi pénale\\nChapitre Ier : Des principes généraux\\nArticle 111-1\\n \\nLes infractions pénales sont classées, suivant leur gravité, en crimes, délits et contraventions.\\n \\n \\nArticle 111-2\\n \\nLa loi détermine les crimes et délits et fixe les peines applicables à leurs auteurs.\\n \\n \\nLe règlement détermine les contraventions et fixe, dans les limites et selon les distinctions établies par la loi,\\nles peines applicables aux contrevenants.\\n \\nArticle 111-3\\n \\nNul ne peut être puni pour un crime ou pour un délit dont les éléments ne sont pas définis par la loi, ou pour\\nune contravention dont les éléments ne sont pas définis par le règlement.\\n \\n \\nNul ne peut être puni d'une peine qui n'est pas prévue par la loi, si l'infraction est un crime ou un délit, ou par\\nle règlement, si l'infraction est une contravention.\\n \\nArticle 111-4\\n \\nLa loi pénale est d'interprétation stricte.\\n \\n \\nArticle 111-5\\nCode pénal - Dernière modification le 23 mai 2024 - Document généré le 30 mai 2024\", metadata={'source': 'data/code_penal.pdf', 'page': 0})"
      ]
     },
     "execution_count": 16,
     "metadata": {},
     "output_type": "execute_result"
    }
   ],
   "source": [
    "pages[0]"
   ]
  },
  {
   "cell_type": "code",
   "execution_count": 17,
   "metadata": {},
   "outputs": [],
   "source": [
    "texts = [doc.page_content for doc in pages]"
   ]
  },
  {
   "cell_type": "code",
   "execution_count": 18,
   "metadata": {},
   "outputs": [
    {
     "name": "stdout",
     "output_type": "stream",
     "text": [
      "page_content=\"Code pénal\\nPartie législative\\nLivre Ier : Dispositions générales\\nTitre Ier : De la loi pénale\\nChapitre Ier : Des principes généraux\\nArticle 111-1\\n \\nLes infractions pénales sont classées, suivant leur gravité, en crimes, délits et contraventions.\\n \\n \\nArticle 111-2\\n \\nLa loi détermine les crimes et délits et fixe les peines applicables à leurs auteurs.\\n \\n \\nLe règlement détermine les contraventions et fixe, dans les limites et selon les distinctions établies par la loi,\\nles peines applicables aux contrevenants.\\n \\nArticle 111-3\\n \\nNul ne peut être puni pour un crime ou pour un délit dont les éléments ne sont pas définis par la loi, ou pour\\nune contravention dont les éléments ne sont pas définis par le règlement.\\n \\n \\nNul ne peut être puni d'une peine qui n'est pas prévue par la loi, si l'infraction est un crime ou un délit, ou par\\nle règlement, si l'infraction est une contravention.\\n \\nArticle 111-4\\n \\nLa loi pénale est d'interprétation stricte.\\n \\n \\nArticle 111-5\"\n"
     ]
    }
   ],
   "source": [
    "text_splitter = RecursiveCharacterTextSplitter(\n",
    "    chunk_size=1000,\n",
    "    chunk_overlap=20,\n",
    "    length_function=len,\n",
    "    is_separator_regex=False,\n",
    ")\n",
    "\n",
    "split_text = text_splitter.create_documents(texts)\n",
    "print(split_text[0])"
   ]
  },
  {
   "cell_type": "code",
   "execution_count": 19,
   "metadata": {},
   "outputs": [],
   "source": [
    "def format_docs(docs):\n",
    "    # Vérifier que docs est une liste de documents\n",
    "    assert isinstance(docs, list), f\"Expected list, got {type(docs)}\"\n",
    "    return \"\\n\\n\".join([doc.page_content for doc in docs])"
   ]
  },
  {
   "cell_type": "code",
   "execution_count": 20,
   "metadata": {},
   "outputs": [],
   "source": [
    "load_dotenv()\n",
    "\n",
    "embeddings = OpenAIEmbeddings(openai_api_key=os.getenv('OPENAI_API_KEY'))\n",
    "\n",
    "vstore = Chroma.from_documents(split_text,embeddings)\n",
    "\n",
    "# Définir le modèle LLM d'OpenAI\n",
    "llm = ChatOpenAI(model_name=\"gpt-4\", verbose=True, openai_api_key=os.getenv('OPENAI_API_KEY'))\n",
    "\n",
    "# Créer le récupérateur de documents\n",
    "retriever = vstore.as_retriever()"
   ]
  },
  {
   "cell_type": "code",
   "execution_count": 21,
   "metadata": {},
   "outputs": [],
   "source": [
    "# Définir le modèle de sortie Pydantic\n",
    "class QAOutput(BaseModel):\n",
    "    answer: str = Field(..., description=\"The summary answer to the question\")\n",
    "    sources: str = Field(..., description=\"The sources used to generate the answer\")\n",
    "\n",
    "# Créer le parser Pydantic\n",
    "output_parser = PydanticOutputParser(pydantic_object=QAOutput)\n"
   ]
  },
  {
   "cell_type": "code",
   "execution_count": 22,
   "metadata": {},
   "outputs": [],
   "source": [
    "prompt_template = PromptTemplate(\n",
    "    input_variables=[\"context\", \"question\"],\n",
    "    template=(\n",
    "        \"Voici des extraits du code pénal : {context}\\n\\n\"\n",
    "        \"Question : {question}\\n\\n\"\n",
    "        \"Répondez à la question en fournissant un résumé synthétique. \"\n",
    "        \"Si tu ne trouves pas de réponse, ne répond pas et répond que l'information n'est pas contenue dans le code pénal. \"\n",
    "        \"Liste les articles utilisés pour générer la réponse.\"\n",
    "    )\n",
    ")\n",
    "\n",
    "rag_chain_from_docs = (\n",
    "    RunnablePassthrough.assign(context=lambda x: {\"context\": format_docs(x[\"context\"]), \"question\": x[\"question\"]})\n",
    "    | prompt_template\n",
    "    | llm\n",
    "    | StrOutputParser()\n",
    ")"
   ]
  },
  {
   "cell_type": "code",
   "execution_count": 23,
   "metadata": {},
   "outputs": [],
   "source": [
    "rag_chain_with_source = RunnableParallel(\n",
    "    {\"context\": retriever, \"question\": RunnablePassthrough()}\n",
    ").assign(answer=rag_chain_from_docs)"
   ]
  },
  {
   "cell_type": "code",
   "execution_count": 30,
   "metadata": {},
   "outputs": [
    {
     "name": "stdout",
     "output_type": "stream",
     "text": [
      "Answer: La peine de prison encourue pour le trafic de drogue, selon l'article 222-35 du code pénal, est de vingt ans de réclusion criminelle. Cependant, si les faits sont commis en bande organisée, la peine est de trente ans de réclusion criminelle.\n",
      "Sources: [Document(page_content=\"Article 222-35\\n \\nLa production ou la fabrication illicites de stupéfiants sont punies de vingt ans de réclusion criminelle et de 7\\n500 000 euros d'amende.\\n \\n \\nCes faits sont punis de trente ans de réclusion criminelle et de 7 500 000 euros d'amende lorsqu'ils sont\\ncommis en bande organisée.\\n \\n \\nCode pénal - Dernière modification le 23 mai 2024 - Document généré le 30 mai 2024\"), Document(page_content=\"Article 222-35\\n \\nLa production ou la fabrication illicites de stupéfiants sont punies de vingt ans de réclusion criminelle et de 7\\n500 000 euros d'amende.\\n \\n \\nCes faits sont punis de trente ans de réclusion criminelle et de 7 500 000 euros d'amende lorsqu'ils sont\\ncommis en bande organisée.\\n \\n \\nCode pénal - Dernière modification le 23 mai 2024 - Document généré le 30 mai 2024\"), Document(page_content=\"ans d'emprisonnement et de 7 500 000 euros d'amende.\\n \\n \\nEst puni des mêmes peines le fait de faciliter, par quelque moyen que ce soit, l'usage illicite de stupéfiants,\\nde se faire délivrer des stupéfiants au moyen d'ordonnances fictives ou de complaisance, ou de délivrer des\\nstupéfiants sur la présentation de telles ordonnances en connaissant leur caractère fictif ou complaisant.\\n \\n \\nLes deux premiers alinéas de l'article 132-23 relatif à la période de sûreté sont applicables aux infractions\\nprévues par le présent article.\\n \\nArticle 222-38\\n \\nEst puni de dix ans d'emprisonnement et de 750 000 euros d'amende le fait de faciliter, par tout moyen,\\nla justification mensongère de l'origine des biens ou des revenus de l'auteur de l'une des infractions\\nmentionnées aux articles 222-34 à 222-37 ou d'apporter son concours à une opération de placement, de\\ndissimulation ou de conversion du produit de l'une de ces infractions. La peine d'amende peut être élevée\"), Document(page_content=\"ans d'emprisonnement et de 7 500 000 euros d'amende.\\n \\n \\nEst puni des mêmes peines le fait de faciliter, par quelque moyen que ce soit, l'usage illicite de stupéfiants,\\nde se faire délivrer des stupéfiants au moyen d'ordonnances fictives ou de complaisance, ou de délivrer des\\nstupéfiants sur la présentation de telles ordonnances en connaissant leur caractère fictif ou complaisant.\\n \\n \\nLes deux premiers alinéas de l'article 132-23 relatif à la période de sûreté sont applicables aux infractions\\nprévues par le présent article.\\n \\nArticle 222-38\\n \\nEst puni de dix ans d'emprisonnement et de 750 000 euros d'amende le fait de faciliter, par tout moyen,\\nla justification mensongère de l'origine des biens ou des revenus de l'auteur de l'une des infractions\\nmentionnées aux articles 222-34 à 222-37 ou d'apporter son concours à une opération de placement, de\\ndissimulation ou de conversion du produit de l'une de ces infractions. La peine d'amende peut être élevée\")]\n"
     ]
    }
   ],
   "source": [
    "question = \"Quels est la peine de prison encourue pour le trafic de drogue ?\"\n",
    "response = rag_chain_with_source.invoke(question)\n",
    "\n",
    "# Afficher la réponse et les sources\n",
    "print(\"Answer:\", response['answer'])\n",
    "print(\"Sources:\", response['context'])"
   ]
  }
 ],
 "metadata": {
  "kernelspec": {
   "display_name": "venv",
   "language": "python",
   "name": "python3"
  },
  "language_info": {
   "codemirror_mode": {
    "name": "ipython",
    "version": 3
   },
   "file_extension": ".py",
   "mimetype": "text/x-python",
   "name": "python",
   "nbconvert_exporter": "python",
   "pygments_lexer": "ipython3",
   "version": "3.11.3"
  }
 },
 "nbformat": 4,
 "nbformat_minor": 2
}
